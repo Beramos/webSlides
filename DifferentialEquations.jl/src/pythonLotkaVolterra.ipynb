{
 "cells": [
  {
   "cell_type": "markdown",
   "metadata": {},
   "source": [
    "# Lotka-Voltera pure Python"
   ]
  },
  {
   "cell_type": "markdown",
   "metadata": {},
   "source": [
    "\\begin{aligned}\n",
    "{\\frac {dx}{dt}}&=\\alpha x-\\beta xy,\\\\{\\frac {dy}{dt}}&= -\\delta y-\\gamma xy,\n",
    "\\end{aligned}\n",
    "\n",
    "where,\n",
    "\n",
    "* $x$ is the number of prey,\n",
    "* $y$ is the number of predator,\n",
    "* $\\alpha$, $\\beta$, $\\gamma$, $\\delta$ parameters describing the interaction between the species."
   ]
  },
  {
   "cell_type": "code",
   "execution_count": 88,
   "metadata": {
    "ExecuteTime": {
     "end_time": "2019-11-12T21:03:14.259815Z",
     "start_time": "2019-11-12T21:03:14.253921Z"
    }
   },
   "outputs": [],
   "source": [
    "import numpy as np\n",
    "from scipy.integrate import odeint\n",
    "import timeit"
   ]
  },
  {
   "cell_type": "markdown",
   "metadata": {},
   "source": [
    "**Defining right-hand side**"
   ]
  },
  {
   "cell_type": "code",
   "execution_count": 89,
   "metadata": {
    "ExecuteTime": {
     "end_time": "2019-11-12T21:03:14.814614Z",
     "start_time": "2019-11-12T21:03:14.805642Z"
    }
   },
   "outputs": [],
   "source": [
    "def dudt(u, t, alpha, beta, delta, gamma):\n",
    "    x, y = u\n",
    "    return [alpha*x - beta*x*y,\n",
    "                -delta*y + gamma*x*y]"
   ]
  },
  {
   "cell_type": "markdown",
   "metadata": {},
   "source": [
    "**Initial conditions, parameters and time discretisation**"
   ]
  },
  {
   "cell_type": "code",
   "execution_count": 95,
   "metadata": {
    "ExecuteTime": {
     "end_time": "2019-11-12T21:03:58.668222Z",
     "start_time": "2019-11-12T21:03:58.661755Z"
    }
   },
   "outputs": [],
   "source": [
    "u0 = [1.0, 1.0]\n",
    "t = np.linspace(0, 10, 10000)\n",
    "p = (1.5, 1.0, 3.0, 1.0)"
   ]
  },
  {
   "cell_type": "markdown",
   "metadata": {},
   "source": [
    "**Wrapping function to time**"
   ]
  },
  {
   "cell_type": "code",
   "execution_count": 91,
   "metadata": {
    "ExecuteTime": {
     "end_time": "2019-11-12T21:03:17.774526Z",
     "start_time": "2019-11-12T21:03:17.770465Z"
    }
   },
   "outputs": [],
   "source": [
    "def time_func():\n",
    "    odeint(dudt, u0, t, args=p, rtol = 1e-8, atol=1e-8)"
   ]
  },
  {
   "cell_type": "markdown",
   "metadata": {},
   "source": [
    "**Run 1e5 times and time**"
   ]
  },
  {
   "cell_type": "code",
   "execution_count": 92,
   "metadata": {
    "ExecuteTime": {
     "end_time": "2019-11-12T21:03:40.867787Z",
     "start_time": "2019-11-12T21:03:19.151203Z"
    }
   },
   "outputs": [
    {
     "name": "stdout",
     "output_type": "stream",
     "text": [
      "time: 2171.057738899981 µs\n"
     ]
    }
   ],
   "source": [
    "t = timeit.Timer(time_func).timeit(number=10000)/10000*1e6\n",
    "print(\"time: \" + str(t) + \" µs\")"
   ]
  },
  {
   "cell_type": "markdown",
   "metadata": {
    "ExecuteTime": {
     "end_time": "2019-11-12T20:35:13.603083Z",
     "start_time": "2019-11-12T20:35:13.592051Z"
    }
   },
   "source": [
    "**Result**"
   ]
  },
  {
   "cell_type": "code",
   "execution_count": 96,
   "metadata": {
    "ExecuteTime": {
     "end_time": "2019-11-12T21:03:59.572644Z",
     "start_time": "2019-11-12T21:03:59.466338Z"
    }
   },
   "outputs": [
    {
     "data": {
      "text/plain": [
       "[<matplotlib.lines.Line2D at 0x7f19c75d2400>,\n",
       " <matplotlib.lines.Line2D at 0x7f19c75d25c0>]"
      ]
     },
     "execution_count": 96,
     "metadata": {},
     "output_type": "execute_result"
    },
    {
     "data": {
      "image/png": "[encoded data removed]",
      "text/plain": [
       "<Figure size 432x288 with 1 Axes>"
      ]
     },
     "metadata": {},
     "output_type": "display_data"
    }
   ],
   "source": [
    "import matplotlib.pyplot as plt\n",
    "%matplotlib inline\n",
    "\n",
    "sol = odeint(dudt, u0, t, args=p,rtol = 1e-8, atol=1e-8)\n",
    "plt.plot(t,sol[:,0],t,sol[:,1])"
   ]
  },
  {
   "cell_type": "code",
   "execution_count": null,
   "metadata": {},
   "outputs": [],
   "source": []
  }
 ],
 "metadata": {
  "hide_input": false,
  "kernelspec": {
   "display_name": "Python [conda env:pyFOAM]",
   "language": "python",
   "name": "conda-env-pyFOAM-py"
  },
  "language_info": {
   "codemirror_mode": {
    "name": "ipython",
    "version": 3
   },
   "file_extension": ".py",
   "mimetype": "text/x-python",
   "name": "python",
   "nbconvert_exporter": "python",
   "pygments_lexer": "ipython3",
   "version": "3.6.4"
  },
  "latex_envs": {
   "LaTeX_envs_menu_present": true,
   "autoclose": false,
   "autocomplete": true,
   "bibliofile": "biblio.bib",
   "cite_by": "apalike",
   "current_citInitial": 1,
   "eqLabelWithNumbers": true,
   "eqNumInitial": 1,
   "hotkeys": {
    "equation": "Ctrl-E",
    "itemize": "Ctrl-I"
   },
   "labels_anchors": false,
   "latex_user_defs": false,
   "report_style_numbering": false,
   "user_envs_cfg": false
  },
  "toc": {
   "nav_menu": {},
   "number_sections": true,
   "sideBar": true,
   "skip_h1_title": false,
   "title_cell": "Table of Contents",
   "title_sidebar": "Contents",
   "toc_cell": false,
   "toc_position": {
    "height": "calc(100% - 180px)",
    "left": "10px",
    "top": "150px",
    "width": "253.2px"
   },
   "toc_section_display": true,
   "toc_window_display": true
  }
 },
 "nbformat": 4,
 "nbformat_minor": 2
}
