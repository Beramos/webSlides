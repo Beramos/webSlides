{
 "cells": [
  {
   "cell_type": "markdown",
   "metadata": {},
   "source": [
    "# Lotka-Voltera pure Julia"
   ]
  },
  {
   "cell_type": "markdown",
   "metadata": {},
   "source": [
    "\\begin{aligned}\n",
    "{\\frac {dx}{dt}}&=\\alpha x-\\beta xy,\\\\{\\frac {dy}{dt}}&= -\\delta y-\\gamma xy,\n",
    "\\end{aligned}\n",
    "\n",
    "where,\n",
    "\n",
    "* $x$ is the number of prey,\n",
    "* $y$ is the number of predator,\n",
    "* $\\alpha$, $\\beta$, $\\gamma$, $\\delta$ parameters describing the interaction between the species."
   ]
  },
  {
   "cell_type": "code",
   "execution_count": 2,
   "metadata": {
    "ExecuteTime": {
     "end_time": "2019-11-12T22:16:07.425000+01:00",
     "start_time": "2019-11-12T21:15:54.998Z"
    }
   },
   "outputs": [],
   "source": [
    "using DifferentialEquations\n",
    "using BenchmarkTools\n",
    "using Statistics"
   ]
  },
  {
   "cell_type": "markdown",
   "metadata": {},
   "source": [
    "**Defining right-hand side**"
   ]
  },
  {
   "cell_type": "code",
   "execution_count": 3,
   "metadata": {
    "ExecuteTime": {
     "end_time": "2019-11-12T22:16:09.759000+01:00",
     "start_time": "2019-11-12T21:15:55.498Z"
    }
   },
   "outputs": [
    {
     "data": {
      "text/plain": [
       "dudt (generic function with 1 method)"
      ]
     },
     "execution_count": 3,
     "metadata": {},
     "output_type": "execute_result"
    }
   ],
   "source": [
    "function dudt(du,u,p,t)\n",
    "  x, y = u\n",
    "  α, β, δ, γ = p\n",
    "  du[1] = α*x - β*x*y\n",
    "  du[2] = -δ*y + γ*x*y\n",
    "end"
   ]
  },
  {
   "cell_type": "markdown",
   "metadata": {},
   "source": [
    "**Initial conditions, parameters and time discretisation**"
   ]
  },
  {
   "cell_type": "code",
   "execution_count": 4,
   "metadata": {
    "ExecuteTime": {
     "end_time": "2019-11-12T22:16:10.175000+01:00",
     "start_time": "2019-11-12T21:15:56.155Z"
    }
   },
   "outputs": [],
   "source": [
    "u0 = [1.0,1.0]\n",
    "tspan = (0.0,10.0)\n",
    "p = [1.5,1.0,3.0,1.0];\n",
    "prob = ODEProblem(dudt,u0,tspan,p);"
   ]
  },
  {
   "cell_type": "markdown",
   "metadata": {},
   "source": [
    "**Wrapping function to time**"
   ]
  },
  {
   "cell_type": "code",
   "execution_count": 5,
   "metadata": {
    "ExecuteTime": {
     "end_time": "2019-11-12T22:16:10.405000+01:00",
     "start_time": "2019-11-12T21:15:57.770Z"
    }
   },
   "outputs": [
    {
     "data": {
      "text/plain": [
       "time_func (generic function with 1 method)"
      ]
     },
     "execution_count": 5,
     "metadata": {},
     "output_type": "execute_result"
    }
   ],
   "source": [
    "function time_func()\n",
    "    solve(prob, rtol = 1e-8, atol = 1e-8)\n",
    "end"
   ]
  },
  {
   "cell_type": "markdown",
   "metadata": {},
   "source": [
    "**Run 1e5 times and time**"
   ]
  },
  {
   "cell_type": "code",
   "execution_count": 38,
   "metadata": {
    "ExecuteTime": {
     "end_time": "2019-11-12T22:05:47.707000+01:00",
     "start_time": "2019-11-12T21:05:39.313Z"
    }
   },
   "outputs": [
    {
     "data": {
      "text/plain": [
       "BenchmarkTools.TrialEstimate: \n",
       "  time:             49.832 μs\n",
       "  gctime:           8.207 μs (16.47%)\n",
       "  memory:           43.70 KiB\n",
       "  allocs:           493"
      ]
     },
     "execution_count": 38,
     "metadata": {},
     "output_type": "execute_result"
    }
   ],
   "source": [
    "t = @benchmark time_func()\n",
    "mean(t)"
   ]
  },
  {
   "cell_type": "markdown",
   "metadata": {},
   "source": [
    "**Result**"
   ]
  },
  {
   "cell_type": "code",
   "execution_count": 10,
   "metadata": {
    "ExecuteTime": {
     "end_time": "2019-11-12T22:17:35.022000+01:00",
     "start_time": "2019-11-12T21:17:34.985Z"
    }
   },
   "outputs": [],
   "source": [
    "using Plots\n",
    "\n",
    "sol = solve(prob, rtol = 1e-8, atol = 1e-8)\n",
    "plot(sol,ylabel=\"Number of a species\",xlabel=\"time\", labels=[\"Rabbit\", \"Fox\"])\n",
    "savefig(\"../figs/lotka.svg\")"
   ]
  },
  {
   "cell_type": "code",
   "execution_count": null,
   "metadata": {},
   "outputs": [],
   "source": []
  }
 ],
 "metadata": {
  "hide_input": false,
  "kernelspec": {
   "display_name": "Julia 1.0.3",
   "language": "julia",
   "name": "julia-1.0"
  },
  "language_info": {
   "file_extension": ".jl",
   "mimetype": "application/julia",
   "name": "julia",
   "version": "1.0.3"
  },
  "latex_envs": {
   "LaTeX_envs_menu_present": true,
   "autoclose": false,
   "autocomplete": true,
   "bibliofile": "biblio.bib",
   "cite_by": "apalike",
   "current_citInitial": 1,
   "eqLabelWithNumbers": true,
   "eqNumInitial": 1,
   "hotkeys": {
    "equation": "Ctrl-E",
    "itemize": "Ctrl-I"
   },
   "labels_anchors": false,
   "latex_user_defs": false,
   "report_style_numbering": false,
   "user_envs_cfg": false
  },
  "toc": {
   "nav_menu": {},
   "number_sections": true,
   "sideBar": true,
   "skip_h1_title": false,
   "title_cell": "Table of Contents",
   "title_sidebar": "Contents",
   "toc_cell": false,
   "toc_position": {
    "height": "calc(100% - 180px)",
    "left": "10px",
    "top": "150px",
    "width": "165px"
   },
   "toc_section_display": true,
   "toc_window_display": true
  }
 },
 "nbformat": 4,
 "nbformat_minor": 2
}
