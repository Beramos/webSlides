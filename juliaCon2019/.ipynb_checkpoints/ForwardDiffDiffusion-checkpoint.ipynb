{
 "cells": [
  {
   "cell_type": "markdown",
   "metadata": {
    "ExecuteTime": {
     "end_time": "2019-03-19T20:25:45.035000+01:00",
     "start_time": "2019-03-19T19:25:44.064Z"
    }
   },
   "source": [
    "# Forward diff simple example (1D-PDE)"
   ]
  },
  {
   "cell_type": "markdown",
   "metadata": {},
   "source": [
    "The one-dimensional diffusion equation is:\n",
    "\n",
    "$$\\frac{\\partial u}{\\partial t}= \\nu \\frac{\\partial^2 u}{\\partial x^2}$$"
   ]
  },
  {
   "cell_type": "markdown",
   "metadata": {},
   "source": [
    "## Loading libraries"
   ]
  },
  {
   "cell_type": "code",
   "execution_count": 1,
   "metadata": {
    "ExecuteTime": {
     "end_time": "2019-04-27T17:44:41.686000+02:00",
     "start_time": "2019-04-27T15:44:22.680Z"
    }
   },
   "outputs": [],
   "source": [
    "using Plots, DifferentialEquations, DiffEqOperators"
   ]
  },
  {
   "cell_type": "markdown",
   "metadata": {},
   "source": [
    "## Setting up the problem"
   ]
  },
  {
   "cell_type": "markdown",
   "metadata": {},
   "source": [
    "**Spatial discretisation**"
   ]
  },
  {
   "cell_type": "code",
   "execution_count": 41,
   "metadata": {
    "ExecuteTime": {
     "end_time": "2019-04-27T18:00:47.897000+02:00",
     "start_time": "2019-04-27T16:00:47.888Z"
    }
   },
   "outputs": [],
   "source": [
    "nx = 101; # number of discretised points xi\n",
    "l=2.0;    # Domain length\n",
    "Δx = l / (nx - 1);\n",
    "x = 0:Δx:l;"
   ]
  },
  {
   "cell_type": "markdown",
   "metadata": {},
   "source": [
    "**Diffusion coefficient**"
   ]
  },
  {
   "cell_type": "code",
   "execution_count": 42,
   "metadata": {
    "ExecuteTime": {
     "end_time": "2019-04-27T18:00:48.681000+02:00",
     "start_time": "2019-04-27T16:00:48.678Z"
    }
   },
   "outputs": [],
   "source": [
    "ν = 40.0;"
   ]
  },
  {
   "cell_type": "markdown",
   "metadata": {},
   "source": [
    "**Defining the difference equation** (method of lines)"
   ]
  },
  {
   "cell_type": "markdown",
   "metadata": {},
   "source": [
    "\n",
    "$$\\frac{\\partial u(x,t)}{\\partial t}= \\nu \\cfrac{u(x+\\Delta x,t) - 2 u(x,t) + u(x-\\Delta x,t)}{\\Delta x^2}$$"
   ]
  },
  {
   "cell_type": "code",
   "execution_count": 43,
   "metadata": {
    "ExecuteTime": {
     "end_time": "2019-04-27T18:00:49.312000+02:00",
     "start_time": "2019-04-27T16:00:49.308Z"
    }
   },
   "outputs": [],
   "source": [
    "A = DerivativeOperator{Float64}(2,2,Δx,nx,:Neumann,:Neumann;BC=(0.,0.));\n",
    "A_array = convert(Array,A);\n",
    "dudt(u,p,t) = p[1].*A_array*u;"
   ]
  },
  {
   "cell_type": "code",
   "execution_count": 44,
   "metadata": {
    "ExecuteTime": {
     "end_time": "2019-04-27T18:00:49.998000+02:00",
     "start_time": "2019-04-27T16:00:49.721Z"
    }
   },
   "outputs": [
    {
     "data": {
      "text/plain": [
       "diffusion"
      ]
     },
     "execution_count": 44,
     "metadata": {},
     "output_type": "execute_result"
    }
   ],
   "source": [
    "\"\"\"\n",
    "diffusion solve the diffusion equation\n",
    "\n",
    "Parameters\n",
    "----\n",
    "p: diffusion coefficient\n",
    "\n",
    "Returns\n",
    "----\n",
    "sol1: solution of the PDE at the simulates timesteps\n",
    "\"\"\"\n",
    "function diffusion(p)\n",
    "    prob1 = DifferentialEquations.ODEProblem(dudt,eltype(p).(u0),eltype(p).((0.0,time_end)),p);\n",
    "    sol1 = DifferentialEquations.solve(prob1,DifferentialEquations.Rodas5(),saveat=1e-5);\n",
    "    return sol1\n",
    "end"
   ]
  },
  {
   "cell_type": "markdown",
   "metadata": {},
   "source": [
    "**Initial condition**"
   ]
  },
  {
   "cell_type": "code",
   "execution_count": 45,
   "metadata": {
    "ExecuteTime": {
     "end_time": "2019-04-27T18:00:50.659000+02:00",
     "start_time": "2019-04-27T16:00:50.377Z"
    }
   },
   "outputs": [
    {
     "data": {
      "image/svg+xml": [
       "<?xml version=\"1.0\" encoding=\"utf-8\"?>\n",
       "<svg xmlns=\"http://www.w3.org/2000/svg\" xmlns:xlink=\"http://www.w3.org/1999/xlink\" width=\"600\" height=\"400\" viewBox=\"0 0 2400 1600\">\n",
       "<defs>\n",
       "  <clipPath id=\"clip4000\">\n",
       "    <rect x=\"0\" y=\"0\" width=\"2400\" height=\"1600\"/>\n",
       "  </clipPath>\n",
       "</defs>\n",
       "<polygon clip-path=\"url(#clip4000)\" points=\"\n",
       "0,1600 2400,1600 2400,0 0,0 \n",
       "  \" fill=\"#ffffff\" fill-rule=\"evenodd\" fill-opacity=\"1\"/>\n",
       "<defs>\n",
       "  <clipPath id=\"clip4001\">\n",
       "    <rect x=\"480\" y=\"0\" width=\"1681\" height=\"1600\"/>\n",
       "  </clipPath>\n",
       "</defs>\n",
       "<polygon clip-path=\"url(#clip4000)\" points=\"\n",
       "251.149,1440.48 2321.26,1440.48 2321.26,47.2441 251.149,47.2441 \n",
       "  \" fill=\"#ffffff\" fill-rule=\"evenodd\" fill-opacity=\"1\"/>\n",
       "<defs>\n",
       "  <clipPath id=\"clip4002\">\n",
       "    <rect x=\"251\" y=\"47\" width=\"2071\" height=\"1394\"/>\n",
       "  </clipPath>\n",
       "</defs>\n",
       "<polyline clip-path=\"url(#clip4002)\" style=\"stroke:#000000; stroke-width:2; stroke-opacity:0.1; fill:none\" points=\"\n",
       "  309.737,1440.48 309.737,47.2441 \n",
       "  \"/>\n",
       "<polyline clip-path=\"url(#clip4002)\" style=\"stroke:#000000; stroke-width:2; stroke-opacity:0.1; fill:none\" points=\"\n",
       "  797.97,1440.48 797.97,47.2441 \n",
       "  \"/>\n",
       "<polyline clip-path=\"url(#clip4002)\" style=\"stroke:#000000; stroke-width:2; stroke-opacity:0.1; fill:none\" points=\"\n",
       "  1286.2,1440.48 1286.2,47.2441 \n",
       "  \"/>\n",
       "<polyline clip-path=\"url(#clip4002)\" style=\"stroke:#000000; stroke-width:2; stroke-opacity:0.1; fill:none\" points=\"\n",
       "  1774.44,1440.48 1774.44,47.2441 \n",
       "  \"/>\n",
       "<polyline clip-path=\"url(#clip4002)\" style=\"stroke:#000000; stroke-width:2; stroke-opacity:0.1; fill:none\" points=\"\n",
       "  2262.67,1440.48 2262.67,47.2441 \n",
       "  \"/>\n",
       "<polyline clip-path=\"url(#clip4002)\" style=\"stroke:#000000; stroke-width:2; stroke-opacity:0.1; fill:none\" points=\"\n",
       "  251.149,1401.05 2321.26,1401.05 \n",
       "  \"/>\n",
       "<polyline clip-path=\"url(#clip4002)\" style=\"stroke:#000000; stroke-width:2; stroke-opacity:0.1; fill:none\" points=\"\n",
       "  251.149,1072.46 2321.26,1072.46 \n",
       "  \"/>\n",
       "<polyline clip-path=\"url(#clip4002)\" style=\"stroke:#000000; stroke-width:2; stroke-opacity:0.1; fill:none\" points=\"\n",
       "  251.149,743.863 2321.26,743.863 \n",
       "  \"/>\n",
       "<polyline clip-path=\"url(#clip4002)\" style=\"stroke:#000000; stroke-width:2; stroke-opacity:0.1; fill:none\" points=\"\n",
       "  251.149,415.269 2321.26,415.269 \n",
       "  \"/>\n",
       "<polyline clip-path=\"url(#clip4002)\" style=\"stroke:#000000; stroke-width:2; stroke-opacity:0.1; fill:none\" points=\"\n",
       "  251.149,86.6754 2321.26,86.6754 \n",
       "  \"/>\n",
       "<polyline clip-path=\"url(#clip4000)\" style=\"stroke:#000000; stroke-width:4; stroke-opacity:1; fill:none\" points=\"\n",
       "  251.149,1440.48 2321.26,1440.48 \n",
       "  \"/>\n",
       "<polyline clip-path=\"url(#clip4000)\" style=\"stroke:#000000; stroke-width:4; stroke-opacity:1; fill:none\" points=\"\n",
       "  251.149,1440.48 251.149,47.2441 \n",
       "  \"/>\n",
       "<polyline clip-path=\"url(#clip4000)\" style=\"stroke:#000000; stroke-width:4; stroke-opacity:1; fill:none\" points=\"\n",
       "  309.737,1440.48 309.737,1419.58 \n",
       "  \"/>\n",
       "<polyline clip-path=\"url(#clip4000)\" style=\"stroke:#000000; stroke-width:4; stroke-opacity:1; fill:none\" points=\"\n",
       "  797.97,1440.48 797.97,1419.58 \n",
       "  \"/>\n",
       "<polyline clip-path=\"url(#clip4000)\" style=\"stroke:#000000; stroke-width:4; stroke-opacity:1; fill:none\" points=\"\n",
       "  1286.2,1440.48 1286.2,1419.58 \n",
       "  \"/>\n",
       "<polyline clip-path=\"url(#clip4000)\" style=\"stroke:#000000; stroke-width:4; stroke-opacity:1; fill:none\" points=\"\n",
       "  1774.44,1440.48 1774.44,1419.58 \n",
       "  \"/>\n",
       "<polyline clip-path=\"url(#clip4000)\" style=\"stroke:#000000; stroke-width:4; stroke-opacity:1; fill:none\" points=\"\n",
       "  2262.67,1440.48 2262.67,1419.58 \n",
       "  \"/>\n",
       "<polyline clip-path=\"url(#clip4000)\" style=\"stroke:#000000; stroke-width:4; stroke-opacity:1; fill:none\" points=\"\n",
       "  251.149,1401.05 282.2,1401.05 \n",
       "  \"/>\n",
       "<polyline clip-path=\"url(#clip4000)\" style=\"stroke:#000000; stroke-width:4; stroke-opacity:1; fill:none\" points=\"\n",
       "  251.149,1072.46 282.2,1072.46 \n",
       "  \"/>\n",
       "<polyline clip-path=\"url(#clip4000)\" style=\"stroke:#000000; stroke-width:4; stroke-opacity:1; fill:none\" points=\"\n",
       "  251.149,743.863 282.2,743.863 \n",
       "  \"/>\n",
       "<polyline clip-path=\"url(#clip4000)\" style=\"stroke:#000000; stroke-width:4; stroke-opacity:1; fill:none\" points=\"\n",
       "  251.149,415.269 282.2,415.269 \n",
       "  \"/>\n",
       "<polyline clip-path=\"url(#clip4000)\" style=\"stroke:#000000; stroke-width:4; stroke-opacity:1; fill:none\" points=\"\n",
       "  251.149,86.6754 282.2,86.6754 \n",
       "  \"/>\n",
       "<g clip-path=\"url(#clip4000)\">\n",
       "<text style=\"fill:#000000; fill-opacity:1; font-family:Arial,Helvetica Neue,Helvetica,sans-serif; font-size:48px; text-anchor:middle;\" transform=\"rotate(0, 309.737, 1494.48)\" x=\"309.737\" y=\"1494.48\">0.0</text>\n",
       "</g>\n",
       "<g clip-path=\"url(#clip4000)\">\n",
       "<text style=\"fill:#000000; fill-opacity:1; font-family:Arial,Helvetica Neue,Helvetica,sans-serif; font-size:48px; text-anchor:middle;\" transform=\"rotate(0, 797.97, 1494.48)\" x=\"797.97\" y=\"1494.48\">0.5</text>\n",
       "</g>\n",
       "<g clip-path=\"url(#clip4000)\">\n",
       "<text style=\"fill:#000000; fill-opacity:1; font-family:Arial,Helvetica Neue,Helvetica,sans-serif; font-size:48px; text-anchor:middle;\" transform=\"rotate(0, 1286.2, 1494.48)\" x=\"1286.2\" y=\"1494.48\">1.0</text>\n",
       "</g>\n",
       "<g clip-path=\"url(#clip4000)\">\n",
       "<text style=\"fill:#000000; fill-opacity:1; font-family:Arial,Helvetica Neue,Helvetica,sans-serif; font-size:48px; text-anchor:middle;\" transform=\"rotate(0, 1774.44, 1494.48)\" x=\"1774.44\" y=\"1494.48\">1.5</text>\n",
       "</g>\n",
       "<g clip-path=\"url(#clip4000)\">\n",
       "<text style=\"fill:#000000; fill-opacity:1; font-family:Arial,Helvetica Neue,Helvetica,sans-serif; font-size:48px; text-anchor:middle;\" transform=\"rotate(0, 2262.67, 1494.48)\" x=\"2262.67\" y=\"1494.48\">2.0</text>\n",
       "</g>\n",
       "<g clip-path=\"url(#clip4000)\">\n",
       "<text style=\"fill:#000000; fill-opacity:1; font-family:Arial,Helvetica Neue,Helvetica,sans-serif; font-size:48px; text-anchor:end;\" transform=\"rotate(0, 227.149, 1418.55)\" x=\"227.149\" y=\"1418.55\">1.00</text>\n",
       "</g>\n",
       "<g clip-path=\"url(#clip4000)\">\n",
       "<text style=\"fill:#000000; fill-opacity:1; font-family:Arial,Helvetica Neue,Helvetica,sans-serif; font-size:48px; text-anchor:end;\" transform=\"rotate(0, 227.149, 1089.96)\" x=\"227.149\" y=\"1089.96\">1.25</text>\n",
       "</g>\n",
       "<g clip-path=\"url(#clip4000)\">\n",
       "<text style=\"fill:#000000; fill-opacity:1; font-family:Arial,Helvetica Neue,Helvetica,sans-serif; font-size:48px; text-anchor:end;\" transform=\"rotate(0, 227.149, 761.363)\" x=\"227.149\" y=\"761.363\">1.50</text>\n",
       "</g>\n",
       "<g clip-path=\"url(#clip4000)\">\n",
       "<text style=\"fill:#000000; fill-opacity:1; font-family:Arial,Helvetica Neue,Helvetica,sans-serif; font-size:48px; text-anchor:end;\" transform=\"rotate(0, 227.149, 432.769)\" x=\"227.149\" y=\"432.769\">1.75</text>\n",
       "</g>\n",
       "<g clip-path=\"url(#clip4000)\">\n",
       "<text style=\"fill:#000000; fill-opacity:1; font-family:Arial,Helvetica Neue,Helvetica,sans-serif; font-size:48px; text-anchor:end;\" transform=\"rotate(0, 227.149, 104.175)\" x=\"227.149\" y=\"104.175\">2.00</text>\n",
       "</g>\n",
       "<g clip-path=\"url(#clip4000)\">\n",
       "<text style=\"fill:#000000; fill-opacity:1; font-family:Arial,Helvetica Neue,Helvetica,sans-serif; font-size:66px; text-anchor:middle;\" transform=\"rotate(0, 1286.2, 1590.4)\" x=\"1286.2\" y=\"1590.4\">distance</text>\n",
       "</g>\n",
       "<g clip-path=\"url(#clip4000)\">\n",
       "<text style=\"fill:#000000; fill-opacity:1; font-family:Arial,Helvetica Neue,Helvetica,sans-serif; font-size:66px; text-anchor:middle;\" transform=\"rotate(-90, 57.6, 743.863)\" x=\"57.6\" y=\"743.863\">u</text>\n",
       "</g>\n",
       "<polyline clip-path=\"url(#clip4002)\" style=\"stroke:#009af9; stroke-width:8; stroke-opacity:1; fill:none\" points=\"\n",
       "  309.737,1401.05 329.266,1401.05 348.795,1401.05 368.325,1401.05 387.854,1401.05 407.383,1401.05 426.913,1401.05 446.442,1401.05 465.971,1401.05 485.501,1401.05 \n",
       "  505.03,1401.05 524.559,1401.05 544.089,1401.05 563.618,1401.05 583.147,1401.05 602.677,1401.05 622.206,1401.05 641.736,1401.05 661.265,1401.05 680.794,1401.05 \n",
       "  700.324,1401.05 719.853,1401.05 739.382,1401.05 758.912,1401.05 778.441,1401.05 797.97,86.6754 817.5,86.6754 837.029,86.6754 856.558,86.6754 876.088,86.6754 \n",
       "  895.617,86.6754 915.146,86.6754 934.676,86.6754 954.205,86.6754 973.735,86.6754 993.264,86.6754 1012.79,86.6754 1032.32,86.6754 1051.85,86.6754 1071.38,86.6754 \n",
       "  1090.91,86.6754 1110.44,86.6754 1129.97,86.6754 1149.5,86.6754 1169.03,86.6754 1188.56,86.6754 1208.09,86.6754 1227.62,86.6754 1247.15,86.6754 1266.67,86.6754 \n",
       "  1286.2,86.6754 1305.73,1401.05 1325.26,1401.05 1344.79,1401.05 1364.32,1401.05 1383.85,1401.05 1403.38,1401.05 1422.91,1401.05 1442.44,1401.05 1461.97,1401.05 \n",
       "  1481.5,1401.05 1501.03,1401.05 1520.56,1401.05 1540.09,1401.05 1559.62,1401.05 1579.14,1401.05 1598.67,1401.05 1618.2,1401.05 1637.73,1401.05 1657.26,1401.05 \n",
       "  1676.79,1401.05 1696.32,1401.05 1715.85,1401.05 1735.38,1401.05 1754.91,1401.05 1774.44,1401.05 1793.97,1401.05 1813.5,1401.05 1833.03,1401.05 1852.56,1401.05 \n",
       "  1872.08,1401.05 1891.61,1401.05 1911.14,1401.05 1930.67,1401.05 1950.2,1401.05 1969.73,1401.05 1989.26,1401.05 2008.79,1401.05 2028.32,1401.05 2047.85,1401.05 \n",
       "  2067.38,1401.05 2086.91,1401.05 2106.44,1401.05 2125.97,1401.05 2145.5,1401.05 2165.03,1401.05 2184.55,1401.05 2204.08,1401.05 2223.61,1401.05 2243.14,1401.05 \n",
       "  2262.67,1401.05 \n",
       "  \"/>\n",
       "</svg>\n"
      ]
     },
     "execution_count": 45,
     "metadata": {},
     "output_type": "execute_result"
    }
   ],
   "source": [
    "u0 = [0.5 ≤ xi ≤ 1.0 ? 2.0 : 1.0 for xi in x];\n",
    "plot(x,u0,\n",
    "     xlabel=\"distance\",ylabel=\"u\",label=\"\",lw=2)"
   ]
  },
  {
   "cell_type": "markdown",
   "metadata": {},
   "source": [
    "**Simulation**"
   ]
  },
  {
   "cell_type": "code",
   "execution_count": 46,
   "metadata": {
    "ExecuteTime": {
     "end_time": "2019-04-27T18:00:52.754000+02:00",
     "start_time": "2019-04-27T16:00:51.726Z"
    }
   },
   "outputs": [],
   "source": [
    "time_end = 0.5e-2;\n",
    "solution = diffusion(ν);"
   ]
  },
  {
   "cell_type": "code",
   "execution_count": 47,
   "metadata": {
    "ExecuteTime": {
     "end_time": "2019-04-27T18:01:06.404000+02:00",
     "start_time": "2019-04-27T16:00:52.392Z"
    },
    "scrolled": false
   },
   "outputs": [
    {
     "data": {
      "image/svg+xml": [
       "<?xml version=\"1.0\" encoding=\"utf-8\"?>\n",
       "<svg xmlns=\"http://www.w3.org/2000/svg\" xmlns:xlink=\"http://www.w3.org/1999/xlink\" width=\"600\" height=\"400\" viewBox=\"0 0 2400 1600\">\n",
       "<defs>\n",
       "  <clipPath id=\"clip4000\">\n",
       "    <rect x=\"0\" y=\"0\" width=\"2400\" height=\"1600\"/>\n",
       "  </clipPath>\n",
       "</defs>\n",
       "<polygon clip-path=\"url(#clip4000)\" points=\"\n",
       "0,1600 2400,1600 2400,0 0,0 \n",
       "  \" fill=\"#ffffff\" fill-rule=\"evenodd\" fill-opacity=\"1\"/>\n",
       "<defs>\n",
       "  <clipPath id=\"clip4001\">\n",
       "    <rect x=\"480\" y=\"0\" width=\"1681\" height=\"1600\"/>\n",
       "  </clipPath>\n",
       "</defs>\n",
       "<polygon clip-path=\"url(#clip4000)\" points=\"\n",
       "251.149,1440.48 2321.26,1440.48 2321.26,47.2441 251.149,47.2441 \n",
       "  \" fill=\"#ffffff\" fill-rule=\"evenodd\" fill-opacity=\"1\"/>\n",
       "<defs>\n",
       "  <clipPath id=\"clip4002\">\n",
       "    <rect x=\"251\" y=\"47\" width=\"2071\" height=\"1394\"/>\n",
       "  </clipPath>\n",
       "</defs>\n",
       "<polyline clip-path=\"url(#clip4002)\" style=\"stroke:#000000; stroke-width:2; stroke-opacity:0.1; fill:none\" points=\"\n",
       "  309.737,1440.48 309.737,47.2441 \n",
       "  \"/>\n",
       "<polyline clip-path=\"url(#clip4002)\" style=\"stroke:#000000; stroke-width:2; stroke-opacity:0.1; fill:none\" points=\"\n",
       "  797.97,1440.48 797.97,47.2441 \n",
       "  \"/>\n",
       "<polyline clip-path=\"url(#clip4002)\" style=\"stroke:#000000; stroke-width:2; stroke-opacity:0.1; fill:none\" points=\"\n",
       "  1286.2,1440.48 1286.2,47.2441 \n",
       "  \"/>\n",
       "<polyline clip-path=\"url(#clip4002)\" style=\"stroke:#000000; stroke-width:2; stroke-opacity:0.1; fill:none\" points=\"\n",
       "  1774.44,1440.48 1774.44,47.2441 \n",
       "  \"/>\n",
       "<polyline clip-path=\"url(#clip4002)\" style=\"stroke:#000000; stroke-width:2; stroke-opacity:0.1; fill:none\" points=\"\n",
       "  2262.67,1440.48 2262.67,47.2441 \n",
       "  \"/>\n",
       "<polyline clip-path=\"url(#clip4002)\" style=\"stroke:#000000; stroke-width:2; stroke-opacity:0.1; fill:none\" points=\"\n",
       "  251.149,1440.48 2321.26,1440.48 \n",
       "  \"/>\n",
       "<polyline clip-path=\"url(#clip4002)\" style=\"stroke:#000000; stroke-width:2; stroke-opacity:0.1; fill:none\" points=\"\n",
       "  251.149,1092.17 2321.26,1092.17 \n",
       "  \"/>\n",
       "<polyline clip-path=\"url(#clip4002)\" style=\"stroke:#000000; stroke-width:2; stroke-opacity:0.1; fill:none\" points=\"\n",
       "  251.149,743.863 2321.26,743.863 \n",
       "  \"/>\n",
       "<polyline clip-path=\"url(#clip4002)\" style=\"stroke:#000000; stroke-width:2; stroke-opacity:0.1; fill:none\" points=\"\n",
       "  251.149,395.554 2321.26,395.554 \n",
       "  \"/>\n",
       "<polyline clip-path=\"url(#clip4002)\" style=\"stroke:#000000; stroke-width:2; stroke-opacity:0.1; fill:none\" points=\"\n",
       "  251.149,47.2441 2321.26,47.2441 \n",
       "  \"/>\n",
       "<polyline clip-path=\"url(#clip4000)\" style=\"stroke:#000000; stroke-width:4; stroke-opacity:1; fill:none\" points=\"\n",
       "  251.149,1440.48 2321.26,1440.48 \n",
       "  \"/>\n",
       "<polyline clip-path=\"url(#clip4000)\" style=\"stroke:#000000; stroke-width:4; stroke-opacity:1; fill:none\" points=\"\n",
       "  251.149,1440.48 251.149,47.2441 \n",
       "  \"/>\n",
       "<polyline clip-path=\"url(#clip4000)\" style=\"stroke:#000000; stroke-width:4; stroke-opacity:1; fill:none\" points=\"\n",
       "  309.737,1440.48 309.737,1419.58 \n",
       "  \"/>\n",
       "<polyline clip-path=\"url(#clip4000)\" style=\"stroke:#000000; stroke-width:4; stroke-opacity:1; fill:none\" points=\"\n",
       "  797.97,1440.48 797.97,1419.58 \n",
       "  \"/>\n",
       "<polyline clip-path=\"url(#clip4000)\" style=\"stroke:#000000; stroke-width:4; stroke-opacity:1; fill:none\" points=\"\n",
       "  1286.2,1440.48 1286.2,1419.58 \n",
       "  \"/>\n",
       "<polyline clip-path=\"url(#clip4000)\" style=\"stroke:#000000; stroke-width:4; stroke-opacity:1; fill:none\" points=\"\n",
       "  1774.44,1440.48 1774.44,1419.58 \n",
       "  \"/>\n",
       "<polyline clip-path=\"url(#clip4000)\" style=\"stroke:#000000; stroke-width:4; stroke-opacity:1; fill:none\" points=\"\n",
       "  2262.67,1440.48 2262.67,1419.58 \n",
       "  \"/>\n",
       "<polyline clip-path=\"url(#clip4000)\" style=\"stroke:#000000; stroke-width:4; stroke-opacity:1; fill:none\" points=\"\n",
       "  251.149,1440.48 282.2,1440.48 \n",
       "  \"/>\n",
       "<polyline clip-path=\"url(#clip4000)\" style=\"stroke:#000000; stroke-width:4; stroke-opacity:1; fill:none\" points=\"\n",
       "  251.149,1092.17 282.2,1092.17 \n",
       "  \"/>\n",
       "<polyline clip-path=\"url(#clip4000)\" style=\"stroke:#000000; stroke-width:4; stroke-opacity:1; fill:none\" points=\"\n",
       "  251.149,743.863 282.2,743.863 \n",
       "  \"/>\n",
       "<polyline clip-path=\"url(#clip4000)\" style=\"stroke:#000000; stroke-width:4; stroke-opacity:1; fill:none\" points=\"\n",
       "  251.149,395.554 282.2,395.554 \n",
       "  \"/>\n",
       "<polyline clip-path=\"url(#clip4000)\" style=\"stroke:#000000; stroke-width:4; stroke-opacity:1; fill:none\" points=\"\n",
       "  251.149,47.2441 282.2,47.2441 \n",
       "  \"/>\n",
       "<g clip-path=\"url(#clip4000)\">\n",
       "<text style=\"fill:#000000; fill-opacity:1; font-family:Arial,Helvetica Neue,Helvetica,sans-serif; font-size:48px; text-anchor:middle;\" transform=\"rotate(0, 309.737, 1494.48)\" x=\"309.737\" y=\"1494.48\">0.0</text>\n",
       "</g>\n",
       "<g clip-path=\"url(#clip4000)\">\n",
       "<text style=\"fill:#000000; fill-opacity:1; font-family:Arial,Helvetica Neue,Helvetica,sans-serif; font-size:48px; text-anchor:middle;\" transform=\"rotate(0, 797.97, 1494.48)\" x=\"797.97\" y=\"1494.48\">0.5</text>\n",
       "</g>\n",
       "<g clip-path=\"url(#clip4000)\">\n",
       "<text style=\"fill:#000000; fill-opacity:1; font-family:Arial,Helvetica Neue,Helvetica,sans-serif; font-size:48px; text-anchor:middle;\" transform=\"rotate(0, 1286.2, 1494.48)\" x=\"1286.2\" y=\"1494.48\">1.0</text>\n",
       "</g>\n",
       "<g clip-path=\"url(#clip4000)\">\n",
       "<text style=\"fill:#000000; fill-opacity:1; font-family:Arial,Helvetica Neue,Helvetica,sans-serif; font-size:48px; text-anchor:middle;\" transform=\"rotate(0, 1774.44, 1494.48)\" x=\"1774.44\" y=\"1494.48\">1.5</text>\n",
       "</g>\n",
       "<g clip-path=\"url(#clip4000)\">\n",
       "<text style=\"fill:#000000; fill-opacity:1; font-family:Arial,Helvetica Neue,Helvetica,sans-serif; font-size:48px; text-anchor:middle;\" transform=\"rotate(0, 2262.67, 1494.48)\" x=\"2262.67\" y=\"1494.48\">2.0</text>\n",
       "</g>\n",
       "<g clip-path=\"url(#clip4000)\">\n",
       "<text style=\"fill:#000000; fill-opacity:1; font-family:Arial,Helvetica Neue,Helvetica,sans-serif; font-size:48px; text-anchor:end;\" transform=\"rotate(0, 227.149, 1457.98)\" x=\"227.149\" y=\"1457.98\">1.00</text>\n",
       "</g>\n",
       "<g clip-path=\"url(#clip4000)\">\n",
       "<text style=\"fill:#000000; fill-opacity:1; font-family:Arial,Helvetica Neue,Helvetica,sans-serif; font-size:48px; text-anchor:end;\" transform=\"rotate(0, 227.149, 1109.67)\" x=\"227.149\" y=\"1109.67\">1.25</text>\n",
       "</g>\n",
       "<g clip-path=\"url(#clip4000)\">\n",
       "<text style=\"fill:#000000; fill-opacity:1; font-family:Arial,Helvetica Neue,Helvetica,sans-serif; font-size:48px; text-anchor:end;\" transform=\"rotate(0, 227.149, 761.363)\" x=\"227.149\" y=\"761.363\">1.50</text>\n",
       "</g>\n",
       "<g clip-path=\"url(#clip4000)\">\n",
       "<text style=\"fill:#000000; fill-opacity:1; font-family:Arial,Helvetica Neue,Helvetica,sans-serif; font-size:48px; text-anchor:end;\" transform=\"rotate(0, 227.149, 413.054)\" x=\"227.149\" y=\"413.054\">1.75</text>\n",
       "</g>\n",
       "<g clip-path=\"url(#clip4000)\">\n",
       "<text style=\"fill:#000000; fill-opacity:1; font-family:Arial,Helvetica Neue,Helvetica,sans-serif; font-size:48px; text-anchor:end;\" transform=\"rotate(0, 227.149, 64.7441)\" x=\"227.149\" y=\"64.7441\">2.00</text>\n",
       "</g>\n",
       "<g clip-path=\"url(#clip4000)\">\n",
       "<text style=\"fill:#000000; fill-opacity:1; font-family:Arial,Helvetica Neue,Helvetica,sans-serif; font-size:66px; text-anchor:middle;\" transform=\"rotate(0, 1286.2, 1590.4)\" x=\"1286.2\" y=\"1590.4\">distance</text>\n",
       "</g>\n",
       "<g clip-path=\"url(#clip4000)\">\n",
       "<text style=\"fill:#000000; fill-opacity:1; font-family:Arial,Helvetica Neue,Helvetica,sans-serif; font-size:66px; text-anchor:middle;\" transform=\"rotate(-90, 57.6, 743.863)\" x=\"57.6\" y=\"743.863\">u</text>\n",
       "</g>\n",
       "<polyline clip-path=\"url(#clip4002)\" style=\"stroke:#009af9; stroke-width:12; stroke-opacity:1; fill:none\" points=\"\n",
       "  309.737,1440.48 329.266,1440.48 348.795,1440.48 368.325,1440.48 387.854,1440.48 407.383,1440.48 426.913,1440.48 446.442,1440.48 465.971,1440.48 485.501,1440.48 \n",
       "  505.03,1440.48 524.559,1440.48 544.089,1440.48 563.618,1440.48 583.147,1440.48 602.677,1440.48 622.206,1440.48 641.736,1440.48 661.265,1440.48 680.794,1440.48 \n",
       "  700.324,1440.48 719.853,1440.48 739.382,1440.48 758.912,1440.48 778.441,1440.48 797.97,47.2441 817.5,47.2441 837.029,47.2441 856.558,47.2441 876.088,47.2441 \n",
       "  895.617,47.2441 915.146,47.2441 934.676,47.2441 954.205,47.2441 973.735,47.2441 993.264,47.2441 1012.79,47.2441 1032.32,47.2441 1051.85,47.2441 1071.38,47.2441 \n",
       "  1090.91,47.2441 1110.44,47.2441 1129.97,47.2441 1149.5,47.2441 1169.03,47.2441 1188.56,47.2441 1208.09,47.2441 1227.62,47.2441 1247.15,47.2441 1266.67,47.2441 \n",
       "  1286.2,47.2441 1305.73,1440.48 1325.26,1440.48 1344.79,1440.48 1364.32,1440.48 1383.85,1440.48 1403.38,1440.48 1422.91,1440.48 1442.44,1440.48 1461.97,1440.48 \n",
       "  1481.5,1440.48 1501.03,1440.48 1520.56,1440.48 1540.09,1440.48 1559.62,1440.48 1579.14,1440.48 1598.67,1440.48 1618.2,1440.48 1637.73,1440.48 1657.26,1440.48 \n",
       "  1676.79,1440.48 1696.32,1440.48 1715.85,1440.48 1735.38,1440.48 1754.91,1440.48 1774.44,1440.48 1793.97,1440.48 1813.5,1440.48 1833.03,1440.48 1852.56,1440.48 \n",
       "  1872.08,1440.48 1891.61,1440.48 1911.14,1440.48 1930.67,1440.48 1950.2,1440.48 1969.73,1440.48 1989.26,1440.48 2008.79,1440.48 2028.32,1440.48 2047.85,1440.48 \n",
       "  2067.38,1440.48 2086.91,1440.48 2106.44,1440.48 2125.97,1440.48 2145.5,1440.48 2165.03,1440.48 2184.55,1440.48 2204.08,1440.48 2223.61,1440.48 2243.14,1440.48 \n",
       "  2262.67,1440.48 \n",
       "  \"/>\n",
       "<polyline clip-path=\"url(#clip4002)\" style=\"stroke:#e26f46; stroke-width:12; stroke-opacity:1; fill:none\" points=\"\n",
       "  309.737,1459.32 329.266,1456.96 348.795,1440.48 368.325,1424.01 387.854,1407.56 407.383,1391.17 426.913,1374.87 446.442,1358.67 465.971,1342.62 485.501,1326.73 \n",
       "  505.03,1311.04 524.559,1295.57 544.089,1280.34 563.618,1265.39 583.147,1250.73 602.677,1236.39 622.206,1222.39 641.736,1208.76 661.265,1195.52 680.794,1182.68 \n",
       "  700.324,1170.28 719.853,1158.31 739.382,1146.81 758.912,1135.79 778.441,1125.27 797.97,1115.25 817.5,1105.76 837.029,1096.8 856.558,1088.38 876.088,1080.52 \n",
       "  895.617,1073.21 915.146,1066.48 934.676,1060.31 954.205,1054.72 973.735,1049.71 993.264,1045.28 1012.79,1041.43 1032.32,1038.16 1051.85,1035.46 1071.38,1033.33 \n",
       "  1090.91,1031.77 1110.44,1030.77 1129.97,1030.31 1149.5,1030.4 1169.03,1031.02 1188.56,1032.17 1208.09,1033.82 1227.62,1035.97 1247.15,1038.6 1266.67,1041.7 \n",
       "  1286.2,1045.25 1305.73,1049.23 1325.26,1053.64 1344.79,1058.45 1364.32,1063.65 1383.85,1069.21 1403.38,1075.12 1422.91,1081.37 1442.44,1087.92 1461.97,1094.77 \n",
       "  1481.5,1101.89 1501.03,1109.27 1520.56,1116.89 1540.09,1124.73 1559.62,1132.77 1579.14,1140.99 1598.67,1149.38 1618.2,1157.93 1637.73,1166.6 1657.26,1175.4 \n",
       "  1676.79,1184.3 1696.32,1193.29 1715.85,1202.36 1735.38,1211.49 1754.91,1220.67 1774.44,1229.9 1793.97,1239.16 1813.5,1248.43 1833.03,1257.73 1852.56,1267.03 \n",
       "  1872.08,1276.32 1891.61,1285.61 1911.14,1294.89 1930.67,1304.15 1950.2,1313.4 1969.73,1322.62 1989.26,1331.81 2008.79,1340.99 2028.32,1350.13 2047.85,1359.25 \n",
       "  2067.38,1368.35 2086.91,1377.42 2106.44,1386.47 2125.97,1395.51 2145.5,1404.52 2165.03,1413.53 2184.55,1422.52 2204.08,1431.5 2223.61,1440.48 2243.14,1449.46 \n",
       "  2262.67,1450.75 \n",
       "  \"/>\n",
       "<polygon clip-path=\"url(#clip4000)\" points=\"\n",
       "1796.51,312.204 2249.26,312.204 2249.26,130.764 1796.51,130.764 \n",
       "  \" fill=\"#ffffff\" fill-rule=\"evenodd\" fill-opacity=\"1\"/>\n",
       "<polyline clip-path=\"url(#clip4000)\" style=\"stroke:#000000; stroke-width:4; stroke-opacity:1; fill:none\" points=\"\n",
       "  1796.51,312.204 2249.26,312.204 2249.26,130.764 1796.51,130.764 1796.51,312.204 \n",
       "  \"/>\n",
       "<polyline clip-path=\"url(#clip4000)\" style=\"stroke:#009af9; stroke-width:12; stroke-opacity:1; fill:none\" points=\"\n",
       "  1820.51,191.244 1964.51,191.244 \n",
       "  \"/>\n",
       "<g clip-path=\"url(#clip4000)\">\n",
       "<text style=\"fill:#000000; fill-opacity:1; font-family:Arial,Helvetica Neue,Helvetica,sans-serif; font-size:48px; text-anchor:start;\" transform=\"rotate(0, 1988.51, 208.744)\" x=\"1988.51\" y=\"208.744\">initial</text>\n",
       "</g>\n",
       "<polyline clip-path=\"url(#clip4000)\" style=\"stroke:#e26f46; stroke-width:12; stroke-opacity:1; fill:none\" points=\"\n",
       "  1820.51,251.724 1964.51,251.724 \n",
       "  \"/>\n",
       "<g clip-path=\"url(#clip4000)\">\n",
       "<text style=\"fill:#000000; fill-opacity:1; font-family:Arial,Helvetica Neue,Helvetica,sans-serif; font-size:48px; text-anchor:start;\" transform=\"rotate(0, 1988.51, 269.224)\" x=\"1988.51\" y=\"269.224\">t = 0.005s</text>\n",
       "</g>\n",
       "</svg>\n"
      ]
     },
     "metadata": {},
     "output_type": "display_data"
    }
   ],
   "source": [
    "for i=1:500\n",
    "   IJulia.clear_output(true)\n",
    "   plot(x,u0,xlabel=\"distance\",ylabel=\"u\",label=[\"initial\"],ylim=(1,2),lw=3)\n",
    "   plot!(x,solution.u[i],xlabel=\"distance\",ylabel=\"u\",label = \"t = $(round(i*1e-5,digits=4))s\",ylim=(1,2),lw=3) |> display\n",
    "   sleep(0.01)\n",
    "end "
   ]
  },
  {
   "cell_type": "markdown",
   "metadata": {},
   "source": [
    "We will be solving the equations using the method of lines"
   ]
  },
  {
   "cell_type": "markdown",
   "metadata": {},
   "source": [
    "## Effect of diffusion coefficient (ν)"
   ]
  },
  {
   "cell_type": "markdown",
   "metadata": {},
   "source": [
    "Let's plot for a for a few values of $\\nu$"
   ]
  },
  {
   "cell_type": "code",
   "execution_count": 57,
   "metadata": {
    "ExecuteTime": {
     "end_time": "2019-04-27T18:04:39.585000+02:00",
     "start_time": "2019-04-27T16:04:39.448Z"
    }
   },
   "outputs": [
    {
     "data": {
      "text/plain": [
       "diffusion (generic function with 1 method)"
      ]
     },
     "execution_count": 57,
     "metadata": {},
     "output_type": "execute_result"
    }
   ],
   "source": [
    "\"\"\"\n",
    "diffusion solve the diffusion equation\n",
    "\n",
    "Parameters\n",
    "----\n",
    "p: diffusion coefficient\n",
    "\n",
    "Returns\n",
    "----\n",
    "sol1: solution of the PDE at the final timestep\n",
    "\"\"\"\n",
    "\n",
    "function diffusion(p)\n",
    "    prob1 = DifferentialEquations.ODEProblem(dudt,eltype(p).(u0),eltype(p).((0.0,time_end)),p);\n",
    "    sol1 = DifferentialEquations.solve(prob1,DifferentialEquations.Tsit5(),save_everystep=false);\n",
    "    return sol1[end]\n",
    "end"
   ]
  },
  {
   "cell_type": "code",
   "execution_count": 58,
   "metadata": {
    "ExecuteTime": {
     "end_time": "2019-04-27T18:04:40.567000+02:00",
     "start_time": "2019-04-27T16:04:40.244Z"
    }
   },
   "outputs": [],
   "source": [
    "time_end = 1e-3;\n",
    "u = [diffusion(ν) for ν in [1,10.0,100]];"
   ]
  },
  {
   "cell_type": "code",
   "execution_count": 59,
   "metadata": {
    "ExecuteTime": {
     "end_time": "2019-04-27T18:04:42.736000+02:00",
     "start_time": "2019-04-27T16:04:42.708Z"
    }
   },
   "outputs": [
    {
     "data": {
      "image/svg+xml": [
       "<?xml version=\"1.0\" encoding=\"utf-8\"?>\n",
       "<svg xmlns=\"http://www.w3.org/2000/svg\" xmlns:xlink=\"http://www.w3.org/1999/xlink\" width=\"600\" height=\"400\" viewBox=\"0 0 2400 1600\">\n",
       "<defs>\n",
       "  <clipPath id=\"clip4800\">\n",
       "    <rect x=\"0\" y=\"0\" width=\"2400\" height=\"1600\"/>\n",
       "  </clipPath>\n",
       "</defs>\n",
       "<polygon clip-path=\"url(#clip4800)\" points=\"\n",
       "0,1600 2400,1600 2400,0 0,0 \n",
       "  \" fill=\"#ffffff\" fill-rule=\"evenodd\" fill-opacity=\"1\"/>\n",
       "<defs>\n",
       "  <clipPath id=\"clip4801\">\n",
       "    <rect x=\"480\" y=\"0\" width=\"1681\" height=\"1600\"/>\n",
       "  </clipPath>\n",
       "</defs>\n",
       "<polygon clip-path=\"url(#clip4800)\" points=\"\n",
       "251.149,1440.48 2321.26,1440.48 2321.26,47.2441 251.149,47.2441 \n",
       "  \" fill=\"#ffffff\" fill-rule=\"evenodd\" fill-opacity=\"1\"/>\n",
       "<defs>\n",
       "  <clipPath id=\"clip4802\">\n",
       "    <rect x=\"251\" y=\"47\" width=\"2071\" height=\"1394\"/>\n",
       "  </clipPath>\n",
       "</defs>\n",
       "<polyline clip-path=\"url(#clip4802)\" style=\"stroke:#000000; stroke-width:2; stroke-opacity:0.1; fill:none\" points=\"\n",
       "  309.737,1440.48 309.737,47.2441 \n",
       "  \"/>\n",
       "<polyline clip-path=\"url(#clip4802)\" style=\"stroke:#000000; stroke-width:2; stroke-opacity:0.1; fill:none\" points=\"\n",
       "  797.97,1440.48 797.97,47.2441 \n",
       "  \"/>\n",
       "<polyline clip-path=\"url(#clip4802)\" style=\"stroke:#000000; stroke-width:2; stroke-opacity:0.1; fill:none\" points=\"\n",
       "  1286.2,1440.48 1286.2,47.2441 \n",
       "  \"/>\n",
       "<polyline clip-path=\"url(#clip4802)\" style=\"stroke:#000000; stroke-width:2; stroke-opacity:0.1; fill:none\" points=\"\n",
       "  1774.44,1440.48 1774.44,47.2441 \n",
       "  \"/>\n",
       "<polyline clip-path=\"url(#clip4802)\" style=\"stroke:#000000; stroke-width:2; stroke-opacity:0.1; fill:none\" points=\"\n",
       "  2262.67,1440.48 2262.67,47.2441 \n",
       "  \"/>\n",
       "<polyline clip-path=\"url(#clip4802)\" style=\"stroke:#000000; stroke-width:2; stroke-opacity:0.1; fill:none\" points=\"\n",
       "  251.149,1440.48 2321.26,1440.48 \n",
       "  \"/>\n",
       "<polyline clip-path=\"url(#clip4802)\" style=\"stroke:#000000; stroke-width:2; stroke-opacity:0.1; fill:none\" points=\"\n",
       "  251.149,1092.17 2321.26,1092.17 \n",
       "  \"/>\n",
       "<polyline clip-path=\"url(#clip4802)\" style=\"stroke:#000000; stroke-width:2; stroke-opacity:0.1; fill:none\" points=\"\n",
       "  251.149,743.863 2321.26,743.863 \n",
       "  \"/>\n",
       "<polyline clip-path=\"url(#clip4802)\" style=\"stroke:#000000; stroke-width:2; stroke-opacity:0.1; fill:none\" points=\"\n",
       "  251.149,395.554 2321.26,395.554 \n",
       "  \"/>\n",
       "<polyline clip-path=\"url(#clip4802)\" style=\"stroke:#000000; stroke-width:2; stroke-opacity:0.1; fill:none\" points=\"\n",
       "  251.149,47.2441 2321.26,47.2441 \n",
       "  \"/>\n",
       "<polyline clip-path=\"url(#clip4800)\" style=\"stroke:#000000; stroke-width:4; stroke-opacity:1; fill:none\" points=\"\n",
       "  251.149,1440.48 2321.26,1440.48 \n",
       "  \"/>\n",
       "<polyline clip-path=\"url(#clip4800)\" style=\"stroke:#000000; stroke-width:4; stroke-opacity:1; fill:none\" points=\"\n",
       "  251.149,1440.48 251.149,47.2441 \n",
       "  \"/>\n",
       "<polyline clip-path=\"url(#clip4800)\" style=\"stroke:#000000; stroke-width:4; stroke-opacity:1; fill:none\" points=\"\n",
       "  309.737,1440.48 309.737,1419.58 \n",
       "  \"/>\n",
       "<polyline clip-path=\"url(#clip4800)\" style=\"stroke:#000000; stroke-width:4; stroke-opacity:1; fill:none\" points=\"\n",
       "  797.97,1440.48 797.97,1419.58 \n",
       "  \"/>\n",
       "<polyline clip-path=\"url(#clip4800)\" style=\"stroke:#000000; stroke-width:4; stroke-opacity:1; fill:none\" points=\"\n",
       "  1286.2,1440.48 1286.2,1419.58 \n",
       "  \"/>\n",
       "<polyline clip-path=\"url(#clip4800)\" style=\"stroke:#000000; stroke-width:4; stroke-opacity:1; fill:none\" points=\"\n",
       "  1774.44,1440.48 1774.44,1419.58 \n",
       "  \"/>\n",
       "<polyline clip-path=\"url(#clip4800)\" style=\"stroke:#000000; stroke-width:4; stroke-opacity:1; fill:none\" points=\"\n",
       "  2262.67,1440.48 2262.67,1419.58 \n",
       "  \"/>\n",
       "<polyline clip-path=\"url(#clip4800)\" style=\"stroke:#000000; stroke-width:4; stroke-opacity:1; fill:none\" points=\"\n",
       "  251.149,1440.48 282.2,1440.48 \n",
       "  \"/>\n",
       "<polyline clip-path=\"url(#clip4800)\" style=\"stroke:#000000; stroke-width:4; stroke-opacity:1; fill:none\" points=\"\n",
       "  251.149,1092.17 282.2,1092.17 \n",
       "  \"/>\n",
       "<polyline clip-path=\"url(#clip4800)\" style=\"stroke:#000000; stroke-width:4; stroke-opacity:1; fill:none\" points=\"\n",
       "  251.149,743.863 282.2,743.863 \n",
       "  \"/>\n",
       "<polyline clip-path=\"url(#clip4800)\" style=\"stroke:#000000; stroke-width:4; stroke-opacity:1; fill:none\" points=\"\n",
       "  251.149,395.554 282.2,395.554 \n",
       "  \"/>\n",
       "<polyline clip-path=\"url(#clip4800)\" style=\"stroke:#000000; stroke-width:4; stroke-opacity:1; fill:none\" points=\"\n",
       "  251.149,47.2441 282.2,47.2441 \n",
       "  \"/>\n",
       "<g clip-path=\"url(#clip4800)\">\n",
       "<text style=\"fill:#000000; fill-opacity:1; font-family:Arial,Helvetica Neue,Helvetica,sans-serif; font-size:48px; text-anchor:middle;\" transform=\"rotate(0, 309.737, 1494.48)\" x=\"309.737\" y=\"1494.48\">0.0</text>\n",
       "</g>\n",
       "<g clip-path=\"url(#clip4800)\">\n",
       "<text style=\"fill:#000000; fill-opacity:1; font-family:Arial,Helvetica Neue,Helvetica,sans-serif; font-size:48px; text-anchor:middle;\" transform=\"rotate(0, 797.97, 1494.48)\" x=\"797.97\" y=\"1494.48\">0.5</text>\n",
       "</g>\n",
       "<g clip-path=\"url(#clip4800)\">\n",
       "<text style=\"fill:#000000; fill-opacity:1; font-family:Arial,Helvetica Neue,Helvetica,sans-serif; font-size:48px; text-anchor:middle;\" transform=\"rotate(0, 1286.2, 1494.48)\" x=\"1286.2\" y=\"1494.48\">1.0</text>\n",
       "</g>\n",
       "<g clip-path=\"url(#clip4800)\">\n",
       "<text style=\"fill:#000000; fill-opacity:1; font-family:Arial,Helvetica Neue,Helvetica,sans-serif; font-size:48px; text-anchor:middle;\" transform=\"rotate(0, 1774.44, 1494.48)\" x=\"1774.44\" y=\"1494.48\">1.5</text>\n",
       "</g>\n",
       "<g clip-path=\"url(#clip4800)\">\n",
       "<text style=\"fill:#000000; fill-opacity:1; font-family:Arial,Helvetica Neue,Helvetica,sans-serif; font-size:48px; text-anchor:middle;\" transform=\"rotate(0, 2262.67, 1494.48)\" x=\"2262.67\" y=\"1494.48\">2.0</text>\n",
       "</g>\n",
       "<g clip-path=\"url(#clip4800)\">\n",
       "<text style=\"fill:#000000; fill-opacity:1; font-family:Arial,Helvetica Neue,Helvetica,sans-serif; font-size:48px; text-anchor:end;\" transform=\"rotate(0, 227.149, 1457.98)\" x=\"227.149\" y=\"1457.98\">1.00</text>\n",
       "</g>\n",
       "<g clip-path=\"url(#clip4800)\">\n",
       "<text style=\"fill:#000000; fill-opacity:1; font-family:Arial,Helvetica Neue,Helvetica,sans-serif; font-size:48px; text-anchor:end;\" transform=\"rotate(0, 227.149, 1109.67)\" x=\"227.149\" y=\"1109.67\">1.25</text>\n",
       "</g>\n",
       "<g clip-path=\"url(#clip4800)\">\n",
       "<text style=\"fill:#000000; fill-opacity:1; font-family:Arial,Helvetica Neue,Helvetica,sans-serif; font-size:48px; text-anchor:end;\" transform=\"rotate(0, 227.149, 761.363)\" x=\"227.149\" y=\"761.363\">1.50</text>\n",
       "</g>\n",
       "<g clip-path=\"url(#clip4800)\">\n",
       "<text style=\"fill:#000000; fill-opacity:1; font-family:Arial,Helvetica Neue,Helvetica,sans-serif; font-size:48px; text-anchor:end;\" transform=\"rotate(0, 227.149, 413.054)\" x=\"227.149\" y=\"413.054\">1.75</text>\n",
       "</g>\n",
       "<g clip-path=\"url(#clip4800)\">\n",
       "<text style=\"fill:#000000; fill-opacity:1; font-family:Arial,Helvetica Neue,Helvetica,sans-serif; font-size:48px; text-anchor:end;\" transform=\"rotate(0, 227.149, 64.7441)\" x=\"227.149\" y=\"64.7441\">2.00</text>\n",
       "</g>\n",
       "<g clip-path=\"url(#clip4800)\">\n",
       "<text style=\"fill:#000000; fill-opacity:1; font-family:Arial,Helvetica Neue,Helvetica,sans-serif; font-size:66px; text-anchor:middle;\" transform=\"rotate(0, 1286.2, 1590.4)\" x=\"1286.2\" y=\"1590.4\">distance</text>\n",
       "</g>\n",
       "<g clip-path=\"url(#clip4800)\">\n",
       "<text style=\"fill:#000000; fill-opacity:1; font-family:Arial,Helvetica Neue,Helvetica,sans-serif; font-size:66px; text-anchor:middle;\" transform=\"rotate(-90, 57.6, 743.863)\" x=\"57.6\" y=\"743.863\">u</text>\n",
       "</g>\n",
       "<polyline clip-path=\"url(#clip4802)\" style=\"stroke:#009af9; stroke-width:12; stroke-opacity:1; fill:none\" points=\"\n",
       "  309.737,1440.48 329.266,1440.48 348.795,1440.48 368.325,1440.48 387.854,1440.48 407.383,1440.48 426.913,1440.48 446.442,1440.48 465.971,1440.48 485.501,1440.48 \n",
       "  505.03,1440.48 524.559,1440.48 544.089,1440.48 563.618,1440.48 583.147,1440.47 602.677,1440.43 622.206,1440.25 641.736,1439.55 661.265,1437.14 680.794,1429.7 \n",
       "  700.324,1409.45 719.853,1361.5 739.382,1264.5 758.912,1100.16 778.441,871.773 797.97,615.954 817.5,387.571 837.029,223.222 856.558,126.23 876.088,78.2773 \n",
       "  895.617,58.0222 915.146,50.5839 934.676,48.1758 954.205,47.48 973.735,47.2987 993.264,47.2557 1012.79,47.2464 1032.32,47.2446 1051.85,47.2446 1071.38,47.2464 \n",
       "  1090.91,47.2557 1110.44,47.2987 1129.97,47.48 1149.5,48.1758 1169.03,50.5839 1188.56,58.0222 1208.09,78.2773 1227.62,126.23 1247.15,223.222 1266.67,387.571 \n",
       "  1286.2,615.954 1305.73,871.773 1325.26,1100.16 1344.79,1264.5 1364.32,1361.5 1383.85,1409.45 1403.38,1429.7 1422.91,1437.14 1442.44,1439.55 1461.97,1440.25 \n",
       "  1481.5,1440.43 1501.03,1440.47 1520.56,1440.48 1540.09,1440.48 1559.62,1440.48 1579.14,1440.48 1598.67,1440.48 1618.2,1440.48 1637.73,1440.48 1657.26,1440.48 \n",
       "  1676.79,1440.48 1696.32,1440.48 1715.85,1440.48 1735.38,1440.48 1754.91,1440.48 1774.44,1440.48 1793.97,1440.48 1813.5,1440.48 1833.03,1440.48 1852.56,1440.48 \n",
       "  1872.08,1440.48 1891.61,1440.48 1911.14,1440.48 1930.67,1440.48 1950.2,1440.48 1969.73,1440.48 1989.26,1440.48 2008.79,1440.48 2028.32,1440.48 2047.85,1440.48 \n",
       "  2067.38,1440.48 2086.91,1440.48 2106.44,1440.48 2125.97,1440.48 2145.5,1440.48 2165.03,1440.48 2184.55,1440.48 2204.08,1440.48 2223.61,1440.48 2243.14,1440.48 \n",
       "  2262.67,1440.48 \n",
       "  \"/>\n",
       "<polyline clip-path=\"url(#clip4802)\" style=\"stroke:#e26f46; stroke-width:12; stroke-opacity:1; fill:none\" points=\"\n",
       "  309.737,1441.5 329.266,1441.55 348.795,1440.48 368.325,1439.41 387.854,1438.22 407.383,1436.51 426.913,1434.4 446.442,1431.06 465.971,1426.88 485.501,1420.51 \n",
       "  505.03,1412.59 524.559,1401.13 544.089,1387.2 563.618,1368.07 583.147,1345.43 602.677,1315.85 622.206,1281.88 641.736,1239.56 661.265,1192.56 680.794,1136.6 \n",
       "  700.324,1076.62 719.853,1008.27 739.382,937.707 758.912,860.641 778.441,784.129 797.97,703.98 817.5,627.557 837.029,550.746 856.558,480.533 876.088,412.872 \n",
       "  895.617,353.78 915.146,299.39 934.676,254.385 954.205,215.351 973.735,185.52 993.264,162.306 1012.79,147.565 1032.32,139.894 1051.85,139.894 1071.38,147.565 \n",
       "  1090.91,162.306 1110.44,185.52 1129.97,215.351 1149.5,254.385 1169.03,299.39 1188.56,353.78 1208.09,412.872 1227.62,480.533 1247.15,550.746 1266.67,627.557 \n",
       "  1286.2,703.98 1305.73,784.129 1325.26,860.641 1344.79,937.707 1364.32,1008.27 1383.85,1076.62 1403.38,1136.6 1422.91,1192.56 1442.44,1239.56 1461.97,1281.88 \n",
       "  1481.5,1315.85 1501.03,1345.43 1520.56,1368.07 1540.09,1387.19 1559.62,1401.12 1579.14,1412.58 1598.67,1420.48 1618.2,1426.84 1637.73,1430.98 1657.26,1434.26 \n",
       "  1676.79,1436.26 1696.32,1437.84 1715.85,1438.73 1735.38,1439.44 1754.91,1439.8 1774.44,1440.1 1793.97,1440.23 1813.5,1440.35 1833.03,1440.4 1852.56,1440.44 \n",
       "  1872.08,1440.45 1891.61,1440.47 1911.14,1440.47 1930.67,1440.48 1950.2,1440.48 1969.73,1440.48 1989.26,1440.48 2008.79,1440.48 2028.32,1440.48 2047.85,1440.48 \n",
       "  2067.38,1440.48 2086.91,1440.48 2106.44,1440.48 2125.97,1440.48 2145.5,1440.48 2165.03,1440.48 2184.55,1440.48 2204.08,1440.48 2223.61,1440.48 2243.14,1440.48 \n",
       "  2262.67,1440.48 \n",
       "  \"/>\n",
       "<polyline clip-path=\"url(#clip4802)\" style=\"stroke:#3da44d; stroke-width:12; stroke-opacity:1; fill:none\" points=\"\n",
       "  309.737,1469.29 329.266,1465.71 348.795,1440.48 368.325,1415.25 387.854,1390.07 407.383,1364.93 426.913,1339.94 446.442,1315.02 465.971,1290.36 485.501,1265.81 \n",
       "  505.03,1241.62 524.559,1217.6 544.089,1194.04 563.618,1170.7 583.147,1147.94 602.677,1125.46 622.206,1103.66 641.736,1082.22 661.265,1061.55 680.794,1041.33 \n",
       "  700.324,1021.98 719.853,1003.18 739.382,985.326 758.912,968.138 778.441,951.953 797.97,936.555 817.5,922.211 837.029,908.772 856.558,896.424 876.088,885.097 \n",
       "  895.617,874.877 915.146,865.791 934.676,857.805 954.205,851.058 973.735,845.383 993.264,841.038 1012.79,837.713 1032.32,835.797 1051.85,834.825 1071.38,835.322 \n",
       "  1090.91,836.663 1110.44,839.518 1129.97,843.094 1149.5,848.208 1169.03,853.901 1188.56,861.136 1208.09,868.793 1227.62,877.976 1247.15,887.41 1266.67,898.337 \n",
       "  1286.2,909.335 1305.73,921.776 1325.26,934.103 1344.79,947.811 1364.32,961.219 1383.85,975.932 1403.38,990.166 1422.91,1005.62 1442.44,1020.42 1461.97,1036.36 \n",
       "  1481.5,1051.49 1501.03,1067.65 1520.56,1082.86 1540.09,1099.01 1559.62,1114.09 1579.14,1130.02 1598.67,1144.78 1618.2,1160.29 1637.73,1174.56 1657.26,1189.49 \n",
       "  1676.79,1203.12 1696.32,1217.35 1715.85,1230.24 1735.38,1243.65 1754.91,1255.72 1774.44,1268.25 1793.97,1279.46 1813.5,1291.06 1833.03,1301.39 1852.56,1312.05 \n",
       "  1872.08,1321.5 1891.61,1331.24 1911.14,1339.84 1930.67,1348.69 1950.2,1356.5 1969.73,1364.52 1989.26,1371.61 2008.79,1378.87 2028.32,1385.33 2047.85,1391.92 \n",
       "  2067.38,1397.85 2086.91,1403.89 2106.44,1409.39 2125.97,1414.98 2145.5,1420.18 2165.03,1425.43 2184.55,1430.46 2204.08,1435.51 2223.61,1440.48 2243.14,1445.46 \n",
       "  2262.67,1446.26 \n",
       "  \"/>\n",
       "<polygon clip-path=\"url(#clip4800)\" points=\"\n",
       "1820.58,372.684 2249.26,372.684 2249.26,130.764 1820.58,130.764 \n",
       "  \" fill=\"#ffffff\" fill-rule=\"evenodd\" fill-opacity=\"1\"/>\n",
       "<polyline clip-path=\"url(#clip4800)\" style=\"stroke:#000000; stroke-width:4; stroke-opacity:1; fill:none\" points=\"\n",
       "  1820.58,372.684 2249.26,372.684 2249.26,130.764 1820.58,130.764 1820.58,372.684 \n",
       "  \"/>\n",
       "<polyline clip-path=\"url(#clip4800)\" style=\"stroke:#009af9; stroke-width:12; stroke-opacity:1; fill:none\" points=\"\n",
       "  1844.58,191.244 1988.58,191.244 \n",
       "  \"/>\n",
       "<g clip-path=\"url(#clip4800)\">\n",
       "<text style=\"fill:#000000; fill-opacity:1; font-family:Arial,Helvetica Neue,Helvetica,sans-serif; font-size:48px; text-anchor:start;\" transform=\"rotate(0, 2012.58, 208.744)\" x=\"2012.58\" y=\"208.744\">nu = 1</text>\n",
       "</g>\n",
       "<polyline clip-path=\"url(#clip4800)\" style=\"stroke:#e26f46; stroke-width:12; stroke-opacity:1; fill:none\" points=\"\n",
       "  1844.58,251.724 1988.58,251.724 \n",
       "  \"/>\n",
       "<g clip-path=\"url(#clip4800)\">\n",
       "<text style=\"fill:#000000; fill-opacity:1; font-family:Arial,Helvetica Neue,Helvetica,sans-serif; font-size:48px; text-anchor:start;\" transform=\"rotate(0, 2012.58, 269.224)\" x=\"2012.58\" y=\"269.224\">nu = 10</text>\n",
       "</g>\n",
       "<polyline clip-path=\"url(#clip4800)\" style=\"stroke:#3da44d; stroke-width:12; stroke-opacity:1; fill:none\" points=\"\n",
       "  1844.58,312.204 1988.58,312.204 \n",
       "  \"/>\n",
       "<g clip-path=\"url(#clip4800)\">\n",
       "<text style=\"fill:#000000; fill-opacity:1; font-family:Arial,Helvetica Neue,Helvetica,sans-serif; font-size:48px; text-anchor:start;\" transform=\"rotate(0, 2012.58, 329.704)\" x=\"2012.58\" y=\"329.704\">nu = 100</text>\n",
       "</g>\n",
       "</svg>\n"
      ]
     },
     "execution_count": 59,
     "metadata": {},
     "output_type": "execute_result"
    }
   ],
   "source": [
    "plot(x,u,xlabel=\"distance\",ylabel=\"u\",label=[\"nu = 1\",\"nu = 10\",\"nu = 100\"],ylim=(1,2),lw=3)"
   ]
  },
  {
   "cell_type": "markdown",
   "metadata": {},
   "source": [
    "## Parameter estimation"
   ]
  },
  {
   "cell_type": "markdown",
   "metadata": {},
   "source": [
    "Assuming $\\nu = 40.0$ is the true value of the parameter the \"exact\" solution of the algorithm is,"
   ]
  },
  {
   "cell_type": "code",
   "execution_count": 61,
   "metadata": {
    "ExecuteTime": {
     "end_time": "2019-04-27T18:04:51.560000+02:00",
     "start_time": "2019-04-27T16:04:51.459Z"
    }
   },
   "outputs": [],
   "source": [
    "ν_true = 40.0;\n",
    "u_true = diffusion(ν_true);"
   ]
  },
  {
   "cell_type": "markdown",
   "metadata": {},
   "source": [
    "The L2-norm (SSE) is used as measure for the goodness-of-fit\n",
    "\n",
    "$${\\displaystyle SSE=\\sum _{i=1}^{n}(y_{i}-f(x_{i}))^{2}}$$"
   ]
  },
  {
   "cell_type": "code",
   "execution_count": 62,
   "metadata": {
    "ExecuteTime": {
     "end_time": "2019-04-27T18:04:52.866000+02:00",
     "start_time": "2019-04-27T16:04:52.864Z"
    }
   },
   "outputs": [],
   "source": [
    "lossL2(fu,p,u) = sum((u - fu(p)).^2);                                 # L2 loss (SSE)"
   ]
  },
  {
   "cell_type": "code",
   "execution_count": 63,
   "metadata": {
    "ExecuteTime": {
     "end_time": "2019-04-27T18:04:59.335000+02:00",
     "start_time": "2019-04-27T16:04:53.977Z"
    }
   },
   "outputs": [
    {
     "data": {
      "image/svg+xml": [
       "<?xml version=\"1.0\" encoding=\"utf-8\"?>\n",
       "<svg xmlns=\"http://www.w3.org/2000/svg\" xmlns:xlink=\"http://www.w3.org/1999/xlink\" width=\"600\" height=\"400\" viewBox=\"0 0 2400 1600\">\n",
       "<defs>\n",
       "  <clipPath id=\"clip5200\">\n",
       "    <rect x=\"0\" y=\"0\" width=\"2400\" height=\"1600\"/>\n",
       "  </clipPath>\n",
       "</defs>\n",
       "<polygon clip-path=\"url(#clip5200)\" points=\"\n",
       "0,1600 2400,1600 2400,0 0,0 \n",
       "  \" fill=\"#ffffff\" fill-rule=\"evenodd\" fill-opacity=\"1\"/>\n",
       "<defs>\n",
       "  <clipPath id=\"clip5201\">\n",
       "    <rect x=\"480\" y=\"0\" width=\"1681\" height=\"1600\"/>\n",
       "  </clipPath>\n",
       "</defs>\n",
       "<polygon clip-path=\"url(#clip5200)\" points=\"\n",
       "184.243,1440.48 2321.26,1440.48 2321.26,47.2441 184.243,47.2441 \n",
       "  \" fill=\"#ffffff\" fill-rule=\"evenodd\" fill-opacity=\"1\"/>\n",
       "<defs>\n",
       "  <clipPath id=\"clip5202\">\n",
       "    <rect x=\"184\" y=\"47\" width=\"2138\" height=\"1394\"/>\n",
       "  </clipPath>\n",
       "</defs>\n",
       "<polyline clip-path=\"url(#clip5202)\" style=\"stroke:#000000; stroke-width:2; stroke-opacity:0.1; fill:none\" points=\"\n",
       "  224.36,1440.48 224.36,47.2441 \n",
       "  \"/>\n",
       "<polyline clip-path=\"url(#clip5202)\" style=\"stroke:#000000; stroke-width:2; stroke-opacity:0.1; fill:none\" points=\"\n",
       "  733.465,1440.48 733.465,47.2441 \n",
       "  \"/>\n",
       "<polyline clip-path=\"url(#clip5202)\" style=\"stroke:#000000; stroke-width:2; stroke-opacity:0.1; fill:none\" points=\"\n",
       "  1242.57,1440.48 1242.57,47.2441 \n",
       "  \"/>\n",
       "<polyline clip-path=\"url(#clip5202)\" style=\"stroke:#000000; stroke-width:2; stroke-opacity:0.1; fill:none\" points=\"\n",
       "  1751.67,1440.48 1751.67,47.2441 \n",
       "  \"/>\n",
       "<polyline clip-path=\"url(#clip5202)\" style=\"stroke:#000000; stroke-width:2; stroke-opacity:0.1; fill:none\" points=\"\n",
       "  2260.78,1440.48 2260.78,47.2441 \n",
       "  \"/>\n",
       "<polyline clip-path=\"url(#clip5202)\" style=\"stroke:#000000; stroke-width:2; stroke-opacity:0.1; fill:none\" points=\"\n",
       "  184.243,1401.05 2321.26,1401.05 \n",
       "  \"/>\n",
       "<polyline clip-path=\"url(#clip5202)\" style=\"stroke:#000000; stroke-width:2; stroke-opacity:0.1; fill:none\" points=\"\n",
       "  184.243,1155.34 2321.26,1155.34 \n",
       "  \"/>\n",
       "<polyline clip-path=\"url(#clip5202)\" style=\"stroke:#000000; stroke-width:2; stroke-opacity:0.1; fill:none\" points=\"\n",
       "  184.243,909.621 2321.26,909.621 \n",
       "  \"/>\n",
       "<polyline clip-path=\"url(#clip5202)\" style=\"stroke:#000000; stroke-width:2; stroke-opacity:0.1; fill:none\" points=\"\n",
       "  184.243,663.906 2321.26,663.906 \n",
       "  \"/>\n",
       "<polyline clip-path=\"url(#clip5202)\" style=\"stroke:#000000; stroke-width:2; stroke-opacity:0.1; fill:none\" points=\"\n",
       "  184.243,418.191 2321.26,418.191 \n",
       "  \"/>\n",
       "<polyline clip-path=\"url(#clip5202)\" style=\"stroke:#000000; stroke-width:2; stroke-opacity:0.1; fill:none\" points=\"\n",
       "  184.243,172.476 2321.26,172.476 \n",
       "  \"/>\n",
       "<polyline clip-path=\"url(#clip5200)\" style=\"stroke:#000000; stroke-width:4; stroke-opacity:1; fill:none\" points=\"\n",
       "  184.243,1440.48 2321.26,1440.48 \n",
       "  \"/>\n",
       "<polyline clip-path=\"url(#clip5200)\" style=\"stroke:#000000; stroke-width:4; stroke-opacity:1; fill:none\" points=\"\n",
       "  184.243,1440.48 184.243,47.2441 \n",
       "  \"/>\n",
       "<polyline clip-path=\"url(#clip5200)\" style=\"stroke:#000000; stroke-width:4; stroke-opacity:1; fill:none\" points=\"\n",
       "  224.36,1440.48 224.36,1419.58 \n",
       "  \"/>\n",
       "<polyline clip-path=\"url(#clip5200)\" style=\"stroke:#000000; stroke-width:4; stroke-opacity:1; fill:none\" points=\"\n",
       "  733.465,1440.48 733.465,1419.58 \n",
       "  \"/>\n",
       "<polyline clip-path=\"url(#clip5200)\" style=\"stroke:#000000; stroke-width:4; stroke-opacity:1; fill:none\" points=\"\n",
       "  1242.57,1440.48 1242.57,1419.58 \n",
       "  \"/>\n",
       "<polyline clip-path=\"url(#clip5200)\" style=\"stroke:#000000; stroke-width:4; stroke-opacity:1; fill:none\" points=\"\n",
       "  1751.67,1440.48 1751.67,1419.58 \n",
       "  \"/>\n",
       "<polyline clip-path=\"url(#clip5200)\" style=\"stroke:#000000; stroke-width:4; stroke-opacity:1; fill:none\" points=\"\n",
       "  2260.78,1440.48 2260.78,1419.58 \n",
       "  \"/>\n",
       "<polyline clip-path=\"url(#clip5200)\" style=\"stroke:#000000; stroke-width:4; stroke-opacity:1; fill:none\" points=\"\n",
       "  184.243,1401.05 216.298,1401.05 \n",
       "  \"/>\n",
       "<polyline clip-path=\"url(#clip5200)\" style=\"stroke:#000000; stroke-width:4; stroke-opacity:1; fill:none\" points=\"\n",
       "  184.243,1155.34 216.298,1155.34 \n",
       "  \"/>\n",
       "<polyline clip-path=\"url(#clip5200)\" style=\"stroke:#000000; stroke-width:4; stroke-opacity:1; fill:none\" points=\"\n",
       "  184.243,909.621 216.298,909.621 \n",
       "  \"/>\n",
       "<polyline clip-path=\"url(#clip5200)\" style=\"stroke:#000000; stroke-width:4; stroke-opacity:1; fill:none\" points=\"\n",
       "  184.243,663.906 216.298,663.906 \n",
       "  \"/>\n",
       "<polyline clip-path=\"url(#clip5200)\" style=\"stroke:#000000; stroke-width:4; stroke-opacity:1; fill:none\" points=\"\n",
       "  184.243,418.191 216.298,418.191 \n",
       "  \"/>\n",
       "<polyline clip-path=\"url(#clip5200)\" style=\"stroke:#000000; stroke-width:4; stroke-opacity:1; fill:none\" points=\"\n",
       "  184.243,172.476 216.298,172.476 \n",
       "  \"/>\n",
       "<g clip-path=\"url(#clip5200)\">\n",
       "<text style=\"fill:#000000; fill-opacity:1; font-family:Arial,Helvetica Neue,Helvetica,sans-serif; font-size:48px; text-anchor:middle;\" transform=\"rotate(0, 224.36, 1494.48)\" x=\"224.36\" y=\"1494.48\">0</text>\n",
       "</g>\n",
       "<g clip-path=\"url(#clip5200)\">\n",
       "<text style=\"fill:#000000; fill-opacity:1; font-family:Arial,Helvetica Neue,Helvetica,sans-serif; font-size:48px; text-anchor:middle;\" transform=\"rotate(0, 733.465, 1494.48)\" x=\"733.465\" y=\"1494.48\">25</text>\n",
       "</g>\n",
       "<g clip-path=\"url(#clip5200)\">\n",
       "<text style=\"fill:#000000; fill-opacity:1; font-family:Arial,Helvetica Neue,Helvetica,sans-serif; font-size:48px; text-anchor:middle;\" transform=\"rotate(0, 1242.57, 1494.48)\" x=\"1242.57\" y=\"1494.48\">50</text>\n",
       "</g>\n",
       "<g clip-path=\"url(#clip5200)\">\n",
       "<text style=\"fill:#000000; fill-opacity:1; font-family:Arial,Helvetica Neue,Helvetica,sans-serif; font-size:48px; text-anchor:middle;\" transform=\"rotate(0, 1751.67, 1494.48)\" x=\"1751.67\" y=\"1494.48\">75</text>\n",
       "</g>\n",
       "<g clip-path=\"url(#clip5200)\">\n",
       "<text style=\"fill:#000000; fill-opacity:1; font-family:Arial,Helvetica Neue,Helvetica,sans-serif; font-size:48px; text-anchor:middle;\" transform=\"rotate(0, 2260.78, 1494.48)\" x=\"2260.78\" y=\"1494.48\">100</text>\n",
       "</g>\n",
       "<g clip-path=\"url(#clip5200)\">\n",
       "<text style=\"fill:#000000; fill-opacity:1; font-family:Arial,Helvetica Neue,Helvetica,sans-serif; font-size:48px; text-anchor:end;\" transform=\"rotate(0, 160.243, 1418.55)\" x=\"160.243\" y=\"1418.55\">0</text>\n",
       "</g>\n",
       "<g clip-path=\"url(#clip5200)\">\n",
       "<text style=\"fill:#000000; fill-opacity:1; font-family:Arial,Helvetica Neue,Helvetica,sans-serif; font-size:48px; text-anchor:end;\" transform=\"rotate(0, 160.243, 1172.84)\" x=\"160.243\" y=\"1172.84\">1</text>\n",
       "</g>\n",
       "<g clip-path=\"url(#clip5200)\">\n",
       "<text style=\"fill:#000000; fill-opacity:1; font-family:Arial,Helvetica Neue,Helvetica,sans-serif; font-size:48px; text-anchor:end;\" transform=\"rotate(0, 160.243, 927.121)\" x=\"160.243\" y=\"927.121\">2</text>\n",
       "</g>\n",
       "<g clip-path=\"url(#clip5200)\">\n",
       "<text style=\"fill:#000000; fill-opacity:1; font-family:Arial,Helvetica Neue,Helvetica,sans-serif; font-size:48px; text-anchor:end;\" transform=\"rotate(0, 160.243, 681.406)\" x=\"160.243\" y=\"681.406\">3</text>\n",
       "</g>\n",
       "<g clip-path=\"url(#clip5200)\">\n",
       "<text style=\"fill:#000000; fill-opacity:1; font-family:Arial,Helvetica Neue,Helvetica,sans-serif; font-size:48px; text-anchor:end;\" transform=\"rotate(0, 160.243, 435.691)\" x=\"160.243\" y=\"435.691\">4</text>\n",
       "</g>\n",
       "<g clip-path=\"url(#clip5200)\">\n",
       "<text style=\"fill:#000000; fill-opacity:1; font-family:Arial,Helvetica Neue,Helvetica,sans-serif; font-size:48px; text-anchor:end;\" transform=\"rotate(0, 160.243, 189.976)\" x=\"160.243\" y=\"189.976\">5</text>\n",
       "</g>\n",
       "<g clip-path=\"url(#clip5200)\">\n",
       "<text style=\"fill:#000000; fill-opacity:1; font-family:Arial,Helvetica Neue,Helvetica,sans-serif; font-size:66px; text-anchor:middle;\" transform=\"rotate(0, 1252.75, 1590.4)\" x=\"1252.75\" y=\"1590.4\">nu</text>\n",
       "</g>\n",
       "<g clip-path=\"url(#clip5200)\">\n",
       "<text style=\"fill:#000000; fill-opacity:1; font-family:Arial,Helvetica Neue,Helvetica,sans-serif; font-size:66px; text-anchor:middle;\" transform=\"rotate(-90, 57.6, 743.863)\" x=\"57.6\" y=\"743.863\">SSE</text>\n",
       "</g>\n",
       "<polyline clip-path=\"url(#clip5202)\" style=\"stroke:#009af9; stroke-width:12; stroke-opacity:1; fill:none\" points=\"\n",
       "  244.724,86.6754 265.088,290.826 285.453,435.013 305.817,548.943 326.181,643.883 346.545,725.482 366.909,796.967 387.274,860.357 407.638,917.008 428.002,967.895 \n",
       "  448.366,1013.75 468.73,1055.17 489.094,1092.61 509.459,1126.5 529.823,1157.16 550.187,1184.91 570.551,1210.03 590.915,1232.73 611.28,1253.24 631.644,1271.75 \n",
       "  652.008,1288.43 672.372,1303.43 692.736,1316.9 713.1,1328.97 733.465,1339.76 753.829,1349.36 774.193,1357.87 794.557,1365.39 814.921,1371.99 835.286,1377.75 \n",
       "  855.65,1382.72 876.014,1386.98 896.378,1390.58 916.742,1393.57 937.106,1396 957.471,1397.9 977.835,1399.33 998.199,1400.3 1018.56,1400.87 1038.93,1401.05 \n",
       "  1059.29,1400.88 1079.66,1400.38 1100.02,1399.57 1120.38,1398.47 1140.75,1397.12 1161.11,1395.51 1181.48,1393.68 1201.84,1391.63 1222.2,1389.39 1242.57,1386.95 \n",
       "  1262.93,1384.35 1283.3,1381.58 1303.66,1378.65 1324.03,1375.59 1344.39,1372.39 1364.75,1369.06 1385.12,1365.62 1405.48,1362.07 1425.85,1358.41 1446.21,1354.65 \n",
       "  1466.58,1350.8 1486.94,1346.87 1507.3,1342.85 1527.67,1338.75 1548.03,1334.59 1568.4,1330.35 1588.76,1326.05 1609.12,1321.68 1629.49,1317.26 1649.85,1312.78 \n",
       "  1670.22,1308.25 1690.58,1303.67 1710.95,1299.05 1731.31,1294.38 1751.67,1289.66 1772.04,1284.91 1792.4,1280.12 1812.77,1275.3 1833.13,1270.44 1853.49,1265.54 \n",
       "  1873.86,1260.62 1894.22,1255.67 1914.59,1250.69 1934.95,1245.68 1955.32,1240.65 1975.68,1235.6 1996.04,1230.52 2016.41,1225.43 2036.77,1220.31 2057.14,1215.17 \n",
       "  2077.5,1210.02 2097.86,1204.85 2118.23,1199.67 2138.59,1194.47 2158.96,1189.25 2179.32,1184.03 2199.69,1178.79 2220.05,1173.54 2240.41,1168.28 2260.78,1163.01 \n",
       "  \n",
       "  \"/>\n",
       "</svg>\n"
      ]
     },
     "execution_count": 63,
     "metadata": {},
     "output_type": "execute_result"
    }
   ],
   "source": [
    "ν = 1:1.0:100;\n",
    "out = [lossL2(diffusion,νi,u_true) for νi in ν];\n",
    "plot(ν,out,xlabel=\"nu\",ylabel=\"SSE\",label=\"\",lw=3)"
   ]
  },
  {
   "cell_type": "code",
   "execution_count": 67,
   "metadata": {
    "ExecuteTime": {
     "end_time": "2019-04-27T18:06:56.378000+02:00",
     "start_time": "2019-04-27T16:06:43.337Z"
    }
   },
   "outputs": [
    {
     "data": {
      "text/plain": [
       "Results of Optimization Algorithm\n",
       " * Algorithm: Newton's Method\n",
       " * Starting Point: [10.0]\n",
       " * Minimizer: [40.0037750605818]\n",
       " * Minimum: 4.692817e-07\n",
       " * Iterations: 5\n",
       " * Convergence: true\n",
       "   * |x - x'| ≤ 0.0e+00: false \n",
       "     |x - x'| = 7.67e-05 \n",
       "   * |f(x) - f(x')| ≤ 0.0e+00 |f(x)|: false\n",
       "     |f(x) - f(x')| = 8.50e-06 |f(x)|\n",
       "   * |g(x)| ≤ 1.0e-08: true \n",
       "     |g(x)| = 1.28e-14 \n",
       "   * Stopped by an increasing objective: false\n",
       "   * Reached Maximum Number of Iterations: false\n",
       " * Objective Calls: 14\n",
       " * Gradient Calls: 14\n",
       " * Hessian Calls: 5"
      ]
     },
     "execution_count": 67,
     "metadata": {},
     "output_type": "execute_result"
    }
   ],
   "source": [
    "optimize(p->lossL2(diffusion,first(p),u_true), [ν0], algo,autodiff= :forward)"
   ]
  },
  {
   "cell_type": "code",
   "execution_count": 53,
   "metadata": {
    "ExecuteTime": {
     "end_time": "2019-04-27T18:01:32.293000+02:00",
     "start_time": "2019-04-27T16:01:32.287Z"
    }
   },
   "outputs": [],
   "source": [
    "using Optim, LineSearches, BenchmarkTools, ForwardDiff"
   ]
  },
  {
   "cell_type": "code",
   "execution_count": 64,
   "metadata": {
    "ExecuteTime": {
     "end_time": "2019-04-27T18:04:59.344000+02:00",
     "start_time": "2019-04-27T16:04:57.999Z"
    }
   },
   "outputs": [],
   "source": [
    "algo = Newton();\n",
    "ν0 = 10.0;"
   ]
  },
  {
   "cell_type": "markdown",
   "metadata": {},
   "source": [
    "*Internal finite differencing:*"
   ]
  },
  {
   "cell_type": "code",
   "execution_count": 65,
   "metadata": {
    "ExecuteTime": {
     "end_time": "2019-04-27T18:05:38.341000+02:00",
     "start_time": "2019-04-27T16:04:59.742Z"
    }
   },
   "outputs": [
    {
     "data": {
      "text/plain": [
       "BenchmarkTools.Trial: \n",
       "  memory estimate:  2.97 GiB\n",
       "  allocs estimate:  2015836\n",
       "  --------------\n",
       "  minimum time:     1.298 s (48.27% GC)\n",
       "  median time:      1.338 s (48.46% GC)\n",
       "  mean time:        1.879 s (37.10% GC)\n",
       "  maximum time:     12.091 s (12.78% GC)\n",
       "  --------------\n",
       "  samples:          20\n",
       "  evals/sample:     1"
      ]
     },
     "execution_count": 65,
     "metadata": {},
     "output_type": "execute_result"
    }
   ],
   "source": [
    "b = @benchmarkable optimize(p->lossL2(diffusion,first(p),u_true), [ν0], algo,autodiff= :forward) samples=40 seconds=180 time_tolerance=0.01\n",
    "run(b)"
   ]
  },
  {
   "cell_type": "code",
   "execution_count": 66,
   "metadata": {
    "ExecuteTime": {
     "end_time": "2019-04-27T18:06:17.520000+02:00",
     "start_time": "2019-04-27T16:05:00.540Z"
    }
   },
   "outputs": [
    {
     "data": {
      "text/plain": [
       "BenchmarkTools.Trial: \n",
       "  memory estimate:  2.47 GiB\n",
       "  allocs estimate:  4026849\n",
       "  --------------\n",
       "  minimum time:     1.740 s (39.36% GC)\n",
       "  median time:      1.868 s (35.86% GC)\n",
       "  mean time:        1.905 s (35.17% GC)\n",
       "  maximum time:     2.480 s (28.26% GC)\n",
       "  --------------\n",
       "  samples:          20\n",
       "  evals/sample:     1"
      ]
     },
     "execution_count": 66,
     "metadata": {},
     "output_type": "execute_result"
    }
   ],
   "source": [
    "b = @benchmarkable optimize(p->lossL2(diffusion,first(p),u_true), [ν0], algo) samples=40 seconds=180 time_tolerance=0.01\n",
    "run(b)"
   ]
  },
  {
   "cell_type": "code",
   "execution_count": null,
   "metadata": {},
   "outputs": [],
   "source": []
  }
 ],
 "metadata": {
  "@webio": {
   "lastCommId": null,
   "lastKernelId": null
  },
  "hide_input": false,
  "kernelspec": {
   "display_name": "Julia 1.0.3",
   "language": "julia",
   "name": "julia-1.0"
  },
  "language_info": {
   "file_extension": ".jl",
   "mimetype": "application/julia",
   "name": "julia",
   "version": "1.0.3"
  },
  "latex_envs": {
   "LaTeX_envs_menu_present": true,
   "autoclose": false,
   "autocomplete": true,
   "bibliofile": "biblio.bib",
   "cite_by": "apalike",
   "current_citInitial": 1,
   "eqLabelWithNumbers": true,
   "eqNumInitial": 1,
   "hotkeys": {
    "equation": "Ctrl-E",
    "itemize": "Ctrl-I"
   },
   "labels_anchors": false,
   "latex_user_defs": false,
   "report_style_numbering": false,
   "user_envs_cfg": false
  },
  "toc": {
   "nav_menu": {},
   "number_sections": true,
   "sideBar": true,
   "skip_h1_title": false,
   "title_cell": "Table of Contents",
   "title_sidebar": "Contents",
   "toc_cell": false,
   "toc_position": {},
   "toc_section_display": true,
   "toc_window_display": true
  }
 },
 "nbformat": 4,
 "nbformat_minor": 2
}
